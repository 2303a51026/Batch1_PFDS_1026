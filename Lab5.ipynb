{
  "nbformat": 4,
  "nbformat_minor": 0,
  "metadata": {
    "colab": {
      "provenance": [],
      "authorship_tag": "ABX9TyPUhEMi7zRxRAqbRRKSo+EO",
      "include_colab_link": true
    },
    "kernelspec": {
      "name": "python3",
      "display_name": "Python 3"
    },
    "language_info": {
      "name": "python"
    }
  },
  "cells": [
    {
      "cell_type": "markdown",
      "metadata": {
        "id": "view-in-github",
        "colab_type": "text"
      },
      "source": [
        "<a href=\"https://colab.research.google.com/github/2303a51026/Batch1_PFDS_1026/blob/main/Lab5.ipynb\" target=\"_parent\"><img src=\"https://colab.research.google.com/assets/colab-badge.svg\" alt=\"Open In Colab\"/></a>"
      ]
    },
    {
      "cell_type": "code",
      "execution_count": 2,
      "metadata": {
        "colab": {
          "base_uri": "https://localhost:8080/"
        },
        "id": "aPKssXCWRS2-",
        "outputId": "a35c658e-9ecc-482c-ccef-a71118d13d07"
      },
      "outputs": [
        {
          "output_type": "stream",
          "name": "stdout",
          "text": [
            "Product\n",
            "   pid    pname          cat     pr\n",
            "0    1   Laptop  Electronics  60000\n",
            "1    2    Phone  Electronics  30000\n",
            "2    3   Tablet  Electronics  20000\n",
            "3    4  Charger  Accessories   1500\n",
            "\n",
            "Sales\n",
            "   sid  pid  qty\n",
            "0  101    1    2\n",
            "1  102    2    3\n",
            "2  103    3    1\n",
            "3  104    1    1\n",
            "4  105    4    5\n",
            "\n",
            "Inner Join\n",
            "   sid  pid  qty    pname          cat     pr\n",
            "0  101    1    2   Laptop  Electronics  60000\n",
            "1  102    2    3    Phone  Electronics  30000\n",
            "2  103    3    1   Tablet  Electronics  20000\n",
            "3  104    1    1   Laptop  Electronics  60000\n",
            "4  105    4    5  Charger  Accessories   1500\n",
            "\n",
            "Outer Join\n",
            "   sid  pid  qty    pname          cat     pr\n",
            "0  101    1    2   Laptop  Electronics  60000\n",
            "1  104    1    1   Laptop  Electronics  60000\n",
            "2  102    2    3    Phone  Electronics  30000\n",
            "3  103    3    1   Tablet  Electronics  20000\n",
            "4  105    4    5  Charger  Accessories   1500\n",
            "\n",
            "Total Revenue: 297500\n",
            "Average Price: 27875.0\n",
            "\n",
            "Product Sales:\n",
            " pname\n",
            "Charger    5\n",
            "Laptop     3\n",
            "Phone      3\n",
            "Tablet     1\n",
            "Name: qty, dtype: int64\n",
            "\n",
            "Category Sales:\n",
            " cat\n",
            "Accessories    5\n",
            "Electronics    7\n",
            "Name: qty, dtype: int64\n",
            "Best Category: Electronics\n"
          ]
        }
      ],
      "source": [
        "import pandas as pd\n",
        "\n",
        "p = pd.DataFrame({\n",
        "    'pid': [1, 2, 3, 4],\n",
        "    'pname': ['Laptop', 'Phone', 'Tablet', 'Charger'],\n",
        "    'cat': ['Electronics', 'Electronics', 'Electronics', 'Accessories'],\n",
        "    'pr': [60000, 30000, 20000, 1500]\n",
        "})\n",
        "\n",
        "s = pd.DataFrame({\n",
        "    'sid': [101, 102, 103, 104, 105],\n",
        "    'pid': [1, 2, 3, 1, 4],\n",
        "    'qty': [2, 3, 1, 1, 5]\n",
        "})\n",
        "\n",
        "print(\"Product\")\n",
        "print(p)\n",
        "\n",
        "print(\"\\nSales\")\n",
        "print(s)\n",
        "\n",
        "m1 = pd.merge(s, p, on='pid', how='inner')\n",
        "print(\"\\nInner Join\")\n",
        "print(m1)\n",
        "\n",
        "m2 = pd.merge(s, p, on='pid', how='outer')\n",
        "print(\"\\nOuter Join\")\n",
        "print(m2)\n",
        "\n",
        "rev = (m1['pr'] * m1['qty']).sum()\n",
        "avg = p['pr'].mean()\n",
        "ps = m1.groupby('pname')['qty'].sum()\n",
        "cs = m1.groupby('cat')['qty'].sum()\n",
        "\n",
        "print(\"\\nTotal Revenue:\", rev)\n",
        "print(\"Average Price:\", avg)\n",
        "\n",
        "print(\"\\nProduct Sales:\\n\", ps)\n",
        "print(\"\\nCategory Sales:\\n\", cs)\n",
        "\n",
        "print(\"Best Category:\", cs.idxmax())\n"
      ]
    },
    {
      "cell_type": "code",
      "source": [
        "#2\n",
        "import pandas as pd\n",
        "\n",
        "t = pd.DataFrame({\n",
        "    'tid': [1, 2, 3],\n",
        "    'tname': ['Alice', 'Bob', 'Charlie'],\n",
        "    'dept': ['CSE', 'ECE', 'CSE']\n",
        "})\n",
        "\n",
        "c = pd.DataFrame({\n",
        "    'cid': [101, 102, 103, 104],\n",
        "    'cname': ['Python', 'Networks', 'AI', 'ML'],\n",
        "    'tid': [1, 2, 1, 1]\n",
        "})\n",
        "\n",
        "print(\"Teachers\")\n",
        "print(t)\n",
        "\n",
        "print(\"\\nCourses\")\n",
        "print(c)\n",
        "\n",
        "m1 = pd.merge(c, t, on='tid', how='inner')\n",
        "print(\"\\nInner Join\")\n",
        "print(m1)\n",
        "\n",
        "m2 = pd.merge(c, t, on='tid', how='left')\n",
        "print(\"\\nLeft Join\")\n",
        "print(m2)\n",
        "\n",
        "avg = m1.groupby('tid')['cid'].count().mean()\n",
        "wl = m1.groupby('dept')['cid'].count()\n",
        "\n",
        "print(\"\\nAvg Courses per Teacher:\", avg)\n",
        "print(\"\\nDept Workload:\\n\", wl)\n",
        "print(\"Most Loaded Dept:\", wl.idxmax())\n",
        "\n"
      ],
      "metadata": {
        "colab": {
          "base_uri": "https://localhost:8080/"
        },
        "id": "ltUFW0fRRlnY",
        "outputId": "8ab7bea4-b77e-4df6-a259-71dd35156565"
      },
      "execution_count": 4,
      "outputs": [
        {
          "output_type": "stream",
          "name": "stdout",
          "text": [
            "Teachers\n",
            "   tid    tname dept\n",
            "0    1    Alice  CSE\n",
            "1    2      Bob  ECE\n",
            "2    3  Charlie  CSE\n",
            "\n",
            "Courses\n",
            "   cid     cname  tid\n",
            "0  101    Python    1\n",
            "1  102  Networks    2\n",
            "2  103        AI    1\n",
            "3  104        ML    1\n",
            "\n",
            "Inner Join\n",
            "   cid     cname  tid  tname dept\n",
            "0  101    Python    1  Alice  CSE\n",
            "1  102  Networks    2    Bob  ECE\n",
            "2  103        AI    1  Alice  CSE\n",
            "3  104        ML    1  Alice  CSE\n",
            "\n",
            "Left Join\n",
            "   cid     cname  tid  tname dept\n",
            "0  101    Python    1  Alice  CSE\n",
            "1  102  Networks    2    Bob  ECE\n",
            "2  103        AI    1  Alice  CSE\n",
            "3  104        ML    1  Alice  CSE\n",
            "\n",
            "Avg Courses per Teacher: 2.0\n",
            "\n",
            "Dept Workload:\n",
            " dept\n",
            "CSE    3\n",
            "ECE    1\n",
            "Name: cid, dtype: int64\n",
            "Most Loaded Dept: CSE\n"
          ]
        }
      ]
    }
  ]
}